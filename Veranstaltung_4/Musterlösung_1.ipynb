{
 "cells": [
  {
   "cell_type": "code",
   "execution_count": 1,
   "id": "52acda6e-de44-4042-81df-fddcb6b161af",
   "metadata": {},
   "outputs": [],
   "source": [
    "import torch\n",
    "import torchvision\n",
    "from torch import nn\n",
    "import torch.nn.functional as F\n",
    "from torch.autograd import Variable\n",
    "from torch.utils.data import DataLoader\n",
    "from torchvision import transforms\n",
    "from torchvision.datasets import FashionMNIST\n",
    "from torchvision.utils import save_image\n",
    "import matplotlib.pyplot as plt\n",
    "from tqdm.notebook import tqdm"
   ]
  },
  {
   "cell_type": "code",
   "execution_count": null,
   "id": "b7617722-4675-4588-a02f-b478d5609d22",
   "metadata": {},
   "outputs": [],
   "source": []
  },
  {
   "cell_type": "code",
   "execution_count": 29,
   "id": "618144e7-069d-4818-8f21-44b645b60075",
   "metadata": {},
   "outputs": [],
   "source": [
    "batch_size = 512\n",
    "\n",
    "transform_image = transforms.Compose([transforms.ToTensor(),])\n",
    "\n",
    "trainset = FashionMNIST('/tmp/data', download=True, transform=transform_image, train=True)\n",
    "testset  = FashionMNIST('/tmp/data', download=True, transform=transform_image, train=False)\n",
    "train_loader = DataLoader(trainset, batch_size=batch_size, num_workers=10, shuffle=True)\n",
    "test_loader  = DataLoader(testset, batch_size=batch_size, num_workers=5, shuffle=True)"
   ]
  },
  {
   "cell_type": "code",
   "execution_count": 25,
   "id": "6250335a-3d97-4cb0-82dc-d5f36561857d",
   "metadata": {},
   "outputs": [],
   "source": [
    "class Encoder(nn.Module):\n",
    "    def __init__(self, latent_size=25, hidden_size=512):\n",
    "        super(Encoder, self).__init__()\n",
    "        self.main = nn.Sequential(\n",
    "            nn.Conv2d(1, 32, kernel_size=5),\n",
    "            nn.BatchNorm2d(32),\n",
    "            nn.ReLU(),\n",
    "            nn.Conv2d(32, 64, kernel_size=5),\n",
    "            nn.BatchNorm2d(64),\n",
    "            nn.ReLU(),\n",
    "            nn.Conv2d(64, 128, kernel_size=5),\n",
    "            nn.BatchNorm2d(128),\n",
    "            nn.ReLU(),\n",
    "            nn.Flatten(1),\n",
    "            nn.Linear(128*16*16, hidden_size),\n",
    "            nn.ReLU(),\n",
    "            nn.Linear(hidden_size, latent_size),\n",
    "            nn.ReLU()\n",
    "        )\n",
    "  \n",
    "\n",
    "    def forward(self, x):\n",
    "        x = self.main(x)\n",
    "        return x\n",
    "\n",
    "class Decoder(nn.Module):\n",
    "    def __init__(self, latent_size=25, hidden_size=512):\n",
    "        super(Decoder, self).__init__()\n",
    "        self.main = nn.Sequential(\n",
    "            nn.Linear(latent_size, hidden_size),\n",
    "            nn.ReLU(),\n",
    "            nn.Linear(hidden_size, 128*16*16),\n",
    "            nn.Unflatten(-1, (128, 16, 16)),\n",
    "            nn.BatchNorm2d(128),\n",
    "            nn.ReLU(),\n",
    "            nn.ConvTranspose2d(128, 64, kernel_size=5),\n",
    "            nn.BatchNorm2d(64),\n",
    "            nn.ReLU(),\n",
    "            nn.ConvTranspose2d(64, 32, kernel_size=5),\n",
    "            nn.BatchNorm2d(32),\n",
    "            nn.ReLU(),\n",
    "            nn.ConvTranspose2d(32, 1, kernel_size=5),\n",
    "            nn.Sigmoid()\n",
    "        )\n",
    "\n",
    "    def forward(self, x):\n",
    "        x = self.main(x)\n",
    "        return x\n",
    "\n",
    "class Autoencoder(nn.Module):\n",
    "    def __init__(self, latent_size=25):\n",
    "        super(Autoencoder, self).__init__()\n",
    "        self.encoder = Encoder(latent_size)\n",
    "        self.decoder = Decoder(latent_size)\n",
    "\n",
    "    def forward(self, x):\n",
    "        x = self.encoder(x)\n",
    "        x = self.decoder(x)\n",
    "        return x"
   ]
  },
  {
   "cell_type": "code",
   "execution_count": 26,
   "id": "8fa2ff50-e6e2-4842-b59e-fd8998ee2b42",
   "metadata": {},
   "outputs": [],
   "source": [
    "def to_image(x):\n",
    "    x = x.clamp(0, 1)\n",
    "    x = x.view(x.size(0), 1, 28, 28)\n",
    "    return x"
   ]
  },
  {
   "cell_type": "code",
   "execution_count": 33,
   "id": "9635344a-ea0e-4bbf-9eaf-6111fcd67410",
   "metadata": {},
   "outputs": [],
   "source": [
    "number_epochs = 51\n",
    "learning_rate = 1e-4\n",
    "device = torch.device(\"cuda:0\" if torch.cuda.is_available() else \"cpu\")\n",
    "\n",
    "model = Autoencoder(32)\n",
    "model = model.to(device)\n",
    "\n",
    "#criterion = nn.MSELoss()\n",
    "criterion = nn.BCELoss()\n",
    "optimizer = torch.optim.AdamW(model.parameters(), lr=learning_rate)\n",
    "\n",
    "train_loss = []\n",
    "test_loss = []"
   ]
  },
  {
   "cell_type": "code",
   "execution_count": 34,
   "id": "383aab5d-86f5-46b7-91a9-f1a22c59171d",
   "metadata": {},
   "outputs": [
    {
     "data": {
      "application/vnd.jupyter.widget-view+json": {
       "model_id": "1b0fbf27eb0f4551807053a986b7e21e",
       "version_major": 2,
       "version_minor": 0
      },
      "text/plain": [
       "  0%|          | 0/51 [00:00<?, ?it/s]"
      ]
     },
     "metadata": {},
     "output_type": "display_data"
    }
   ],
   "source": [
    "with tqdm(range(number_epochs)) as iterator:\n",
    "    for epoch in iterator:\n",
    "        running_loss = 0\n",
    "        count = 0\n",
    "        for data in train_loader:\n",
    "            optimizer.zero_grad()\n",
    "            \n",
    "            image, i = data\n",
    "            image = image.to(device)\n",
    "  \n",
    "            # Forward pass\n",
    "            output = model(image)\n",
    "            loss = criterion(output, image)\n",
    "\n",
    "            # Backward pass\n",
    "            loss.backward()\n",
    "            optimizer.step()\n",
    "            running_loss += loss.item()\n",
    "            count += 1\n",
    "        train_loss.append(running_loss/count)\n",
    "        \n",
    "        with torch.no_grad():\n",
    "            running_loss = 0\n",
    "            count = 0\n",
    "            for data in test_loader:\n",
    "                image, i = data\n",
    "                image = image.to(device)\n",
    "\n",
    "                # Forward pass\n",
    "                output = model(image)\n",
    "                loss = criterion(output, image)\n",
    "                running_loss += loss.item()\n",
    "                count += 1\n",
    "            test_loss.append(running_loss/count)\n",
    "                \n",
    "            iterator.set_postfix_str(f\"Train Loss: {train_loss[-1]:.4f}, Test Loss: {test_loss[-1]:.4f}\")\n",
    "            if epoch % 10 == 0:\n",
    "                rec = to_image(output.cpu().data)\n",
    "                img = to_image(image.cpu().data)\n",
    "                save_image(rec, f\"rec_{epoch}.png\")\n",
    "                save_image(img, f\"img_{epoch}.png\")"
   ]
  },
  {
   "cell_type": "code",
   "execution_count": 35,
   "id": "505d5673-6352-42f2-923d-17cce55970cf",
   "metadata": {},
   "outputs": [
    {
     "data": {
      "text/plain": [
       "[]"
      ]
     },
     "execution_count": 35,
     "metadata": {},
     "output_type": "execute_result"
    },
    {
     "data": {
      "image/png": "[encoded data removed]",
      "text/plain": [
       "<Figure size 640x480 with 1 Axes>"
      ]
     },
     "metadata": {},
     "output_type": "display_data"
    }
   ],
   "source": [
    "plt.plot(range(len(train_loss)), train_loss, label=\"train_loss\")\n",
    "plt.plot(range(len(test_loss)), test_loss, label=\"test_loss\")\n",
    "plt.legend()\n",
    "plt.xlabel(\"epoch\")\n",
    "plt.ylabel(\"loss\")\n",
    "plt.plot()"
   ]
  },
  {
   "cell_type": "code",
   "execution_count": 41,
   "id": "ada25798-70b2-4fcc-a415-c1abc1116830",
   "metadata": {},
   "outputs": [],
   "source": [
    "class Encoder(nn.Module):\n",
    "    def __init__(self, latent_size=25, hidden_size=512):\n",
    "        super(Encoder, self).__init__()\n",
    "        self.main = nn.Sequential(\n",
    "            nn.Conv2d(1, 32, kernel_size=5),\n",
    "            nn.BatchNorm2d(32),\n",
    "            nn.ReLU(),\n",
    "            nn.Conv2d(32, 64, kernel_size=5),\n",
    "            nn.BatchNorm2d(64),\n",
    "            nn.ReLU(),\n",
    "            nn.Conv2d(64, 128, kernel_size=5),\n",
    "            nn.BatchNorm2d(128),\n",
    "            nn.ReLU(),\n",
    "            nn.Flatten(1),\n",
    "            nn.Linear(128*16*16, hidden_size),\n",
    "            nn.ReLU()\n",
    "        )\n",
    "        self.mu = nn.Linear(hidden_size, latent_size)\n",
    "        self.logvar = nn.Linear(hidden_size, latent_size)\n",
    "\n",
    "    def forward(self, x):\n",
    "        x = self.main(x)\n",
    "        mu = self.mu(x)\n",
    "        logvar = self.logvar(x)\n",
    "        return mu, logvar\n",
    "    \n",
    "class Decoder(nn.Module):\n",
    "    def __init__(self, latent_size=25, hidden_size=512):\n",
    "        super(Decoder, self).__init__()\n",
    "        self.main = nn.Sequential(\n",
    "            nn.Linear(latent_size, hidden_size),\n",
    "            nn.ReLU(),\n",
    "            nn.Linear(hidden_size, 128*16*16),\n",
    "            nn.Unflatten(-1, (128, 16, 16)),\n",
    "            nn.BatchNorm2d(128),\n",
    "            nn.ReLU(),\n",
    "            nn.ConvTranspose2d(128, 64, kernel_size=5),\n",
    "            nn.BatchNorm2d(64),\n",
    "            nn.ReLU(),\n",
    "            nn.ConvTranspose2d(64, 32, kernel_size=5),\n",
    "            nn.BatchNorm2d(32),\n",
    "            nn.ReLU(),\n",
    "            nn.ConvTranspose2d(32, 1, kernel_size=5),\n",
    "            nn.Sigmoid()\n",
    "        )\n",
    "\n",
    "    def forward(self, x):\n",
    "        x = self.main(x)\n",
    "        return x\n",
    "\n",
    "class VariationalAutoencoder(nn.Module):\n",
    "    def __init__(self, latent_size=64):\n",
    "        super(VariationalAutoencoder, self).__init__()\n",
    "        self.encoder = Encoder(latent_size)\n",
    "        self.decoder = Decoder(latent_size)\n",
    "        \n",
    "    def reparametrize(self, mu, logvar):\n",
    "        std = logvar.mul(0.5).exp_()\n",
    "        eps = torch.FloatTensor(std.size()).normal_().to(device)\n",
    "        #eps = Variable(eps)\n",
    "        return eps.mul(std).add_(mu)\n",
    "        \n",
    "    def forward(self, x):\n",
    "        mu, logvar = self.encoder(x)\n",
    "        x = self.reparametrize(mu, logvar)\n",
    "        x = self.decoder(x)\n",
    "        return x, mu, logvar"
   ]
  },
  {
   "cell_type": "markdown",
   "id": "1a3ef584-4abc-4e16-bb30-fce8fc88b5f9",
   "metadata": {},
   "source": [
    "Variante ohne CNN:"
   ]
  },
  {
   "cell_type": "code",
   "execution_count": 36,
   "id": "016e443d-33b5-41de-8016-bc8b676b045a",
   "metadata": {},
   "outputs": [],
   "source": [
    "class VariationalAutoencoder(nn.Module):\n",
    "    def __init__(self, device=None):\n",
    "        super(VariationalAutoencoder, self).__init__()\n",
    "\n",
    "        if device is None:\n",
    "            device = torch.device(\"cuda:0\" if torch.cuda.is_available() else \"cpu\")\n",
    "        self.device = device\n",
    "        \n",
    "        self.fc1 = nn.Linear(784, 400)\n",
    "        self.fc21 = nn.Linear(400, 20)\n",
    "        self.fc22 = nn.Linear(400, 20)\n",
    "        \n",
    "        self.fc3 = nn.Linear(20, 400)\n",
    "        self.fc4 = nn.Linear(400, 784)\n",
    "\n",
    "    def encode_function(self, x):\n",
    "        x = x.view(image.size(0), -1)\n",
    "        h1 = F.relu(self.fc1(x))\n",
    "        return self.fc21(h1), self.fc22(h1)\n",
    "\n",
    "    def reparametrize(self, mu, logvar):\n",
    "        std = logvar.mul(0.5).exp_()\n",
    "        eps = torch.FloatTensor(std.size()).normal_().to(device)\n",
    "        eps = Variable(eps)\n",
    "        return eps.mul(std).add_(mu)\n",
    "\n",
    "    def decode_function(self, z):\n",
    "        h3 = F.relu(self.fc3(z))\n",
    "        return F.sigmoid(self.fc4(h3)).view(h3.size(0), 1, 28, 28)\n",
    "\n",
    "    def forward(self, x):\n",
    "        mu, logvar = self.encode_function(x)\n",
    "        z = self.reparametrize(mu, logvar)\n",
    "        return self.decode_function(z), mu, logvar"
   ]
  },
  {
   "cell_type": "code",
   "execution_count": 42,
   "id": "de96f5dc-026f-49a7-adb2-c3a6c8191be9",
   "metadata": {},
   "outputs": [],
   "source": [
    "class KLDLoss(nn.Module):\n",
    "    \"\"\"Calculate Kullback-Leibler divergence between learned mean and logvar and standard normal distribution.\n",
    "    This is *NOT* a re-implementation of torch.nn.KLDivLoss\"\"\"\n",
    "    def __init__(self, reduction='mean'):\n",
    "        super(KLDLoss, self).__init__()\n",
    "        self.reduction = reduction\n",
    "\n",
    "    def forward(self, mean, logvar):\n",
    "        # KLD loss\n",
    "        kld_loss = -0.5 * torch.sum(1 + logvar - mean.pow(2) - logvar.exp(), 1)\n",
    "        # Size average\n",
    "        if self.reduction == 'mean':\n",
    "            kld_loss = torch.mean(kld_loss)\n",
    "        elif self.reduction == 'sum':\n",
    "            kld_loss = torch.sum(kld_loss)\n",
    "        return kld_loss"
   ]
  },
  {
   "cell_type": "code",
   "execution_count": 46,
   "id": "0f972e72-cf78-4cfe-a0fc-ec3d5e3d308c",
   "metadata": {},
   "outputs": [],
   "source": [
    "number_epochs = 51\n",
    "learning_rate = 1e-3\n",
    "device = torch.device(\"cuda:0\" if torch.cuda.is_available() else \"cpu\")\n",
    "\n",
    "beta = 0.01\n",
    "\n",
    "model = VariationalAutoencoder(32)\n",
    "model = model.to(device)\n",
    "\n",
    "reconstruction_loss = nn.MSELoss(reduction=\"sum\")\n",
    "kld_loss = KLDLoss(reduction=\"sum\")\n",
    "\n",
    "optimizer = torch.optim.AdamW(model.parameters(), lr=learning_rate)\n",
    "\n",
    "train_loss = []\n",
    "test_loss = []"
   ]
  },
  {
   "cell_type": "code",
   "execution_count": 47,
   "id": "c8bcc6dd-7a02-478f-8427-a2fd75031ad9",
   "metadata": {},
   "outputs": [
    {
     "data": {
      "application/vnd.jupyter.widget-view+json": {
       "model_id": "8eb82f665d95430bab14ed9ad5c49848",
       "version_major": 2,
       "version_minor": 0
      },
      "text/plain": [
       "  0%|          | 0/51 [00:00<?, ?it/s]"
      ]
     },
     "metadata": {},
     "output_type": "display_data"
    }
   ],
   "source": [
    "with tqdm(range(number_epochs)) as iterator:\n",
    "    for epoch in iterator:\n",
    "        running_loss = 0\n",
    "        count = 0\n",
    "        model.train()\n",
    "        for data in train_loader:\n",
    "            optimizer.zero_grad()\n",
    "            \n",
    "            image, i = data\n",
    "            image = image.to(device)\n",
    "  \n",
    "            # Forward pass\n",
    "            output, mean, logvar = model(image)\n",
    "            rc_loss = reconstruction_loss(output, image)\n",
    "            kl_loss = kld_loss(mean, logvar)\n",
    "            loss = rc_loss + beta * kl_loss\n",
    "\n",
    "            # Backward pass\n",
    "            loss.backward()\n",
    "            optimizer.step()\n",
    "            running_loss += loss.item()\n",
    "            count += 1\n",
    "        train_loss.append(running_loss/count)\n",
    "        \n",
    "        with torch.no_grad():\n",
    "            running_loss = 0\n",
    "            count = 0\n",
    "            for data in test_loader:\n",
    "                image, i = data\n",
    "                image = image.to(device)\n",
    "\n",
    "                # Forward pass\n",
    "                output, mean, logvar = model(image)\n",
    "                rc_loss = reconstruction_loss(output, image)\n",
    "                kl_loss = kld_loss(mean, logvar)\n",
    "                loss = rc_loss + beta * kl_loss\n",
    "                running_loss += loss.item()\n",
    "                count += 1\n",
    "            test_loss.append(running_loss/count)\n",
    "                \n",
    "            iterator.set_postfix_str(f\"Train Loss: {train_loss[-1]:.4f}, Test Loss: {test_loss[-1]:.4f}\")\n",
    "            if epoch % 10 == 0:\n",
    "                rec = to_image(output.cpu().data)\n",
    "                img = to_image(image.cpu().data)\n",
    "                save_image(rec, f\"rec_{epoch}.png\")\n",
    "                save_image(img, f\"img_{epoch}.png\")"
   ]
  },
  {
   "cell_type": "code",
   "execution_count": 48,
   "id": "f5479da9-32d0-453b-9459-37742a162d43",
   "metadata": {},
   "outputs": [
    {
     "data": {
      "text/plain": [
       "[]"
      ]
     },
     "execution_count": 48,
     "metadata": {},
     "output_type": "execute_result"
    },
    {
     "data": {
      "image/png": "[encoded data removed]",
      "text/plain": [
       "<Figure size 640x480 with 1 Axes>"
      ]
     },
     "metadata": {},
     "output_type": "display_data"
    }
   ],
   "source": [
    "plt.plot(range(len(train_loss)), train_loss, label=\"train_loss\")\n",
    "plt.plot(range(len(test_loss)), test_loss, label=\"test_loss\")\n",
    "plt.legend()\n",
    "plt.xlabel(\"epoch\")\n",
    "plt.ylabel(\"loss\")\n",
    "plt.plot()"
   ]
  },
  {
   "cell_type": "code",
   "execution_count": null,
   "id": "ef549954-3ed9-422b-970f-65e1c1a30b21",
   "metadata": {},
   "outputs": [],
   "source": []
  }
 ],
 "metadata": {
  "kernelspec": {
   "display_name": "Python 3 (ipykernel)",
   "language": "python",
   "name": "python3"
  },
  "language_info": {
   "codemirror_mode": {
    "name": "ipython",
    "version": 3
   },
   "file_extension": ".py",
   "mimetype": "text/x-python",
   "name": "python",
   "nbconvert_exporter": "python",
   "pygments_lexer": "ipython3",
   "version": "3.10.11"
  }
 },
 "nbformat": 4,
 "nbformat_minor": 5
}
