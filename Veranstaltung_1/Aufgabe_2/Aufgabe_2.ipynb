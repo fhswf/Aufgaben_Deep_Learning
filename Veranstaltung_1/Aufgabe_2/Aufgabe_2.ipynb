{
 "cells": [
  {
   "cell_type": "markdown",
   "id": "40d1f5c2",
   "metadata": {},
   "source": [
    "# Übung 1 - Aufgabe 2 - Zeitpunkt der Kirschblüte\n",
    "\n",
    "Der Start der Kirschblüte in der japanischen Stadt Kyoto wird seit Jahrhunderten nahezu Jahr für Jahr aufgezeichnet. Diese ist neben dem Wetter allgemein besonders von der durchschnittlichen Temperatur im März abhängig. Aufzeichnungen und Einschätzungen zum Wetter in diesem Zeitraum finden sich ebenfalls für Jahrhunderte. Entwickeln und trainieren Sie ein neuronales Netz, welches die durchschnittliche Märztemperatur und das Jahr aufnimmt, um eine Prognose für den Start der Kirschblüte zu geben. Diese Vorhersage soll als absoluter Jahrestag (99, 100, 101, usw.) geliefert werden. Ein Einbezug des Jahr soll hierbei vorgenommen werden, um mögliche Klimatrends zu berücksichtigen. Der Datensatz liegt als Semikolon-separiertes CSV-Dokument vor, welches die Spalten Jahr (AD), absoluter Jahrestag (Full-flowering date (DOY)) und durchschnittliche Märztemperatur (March-Mean-Temp) beinhaltet.\n",
    "\n",
    "Diese Aufgabe hält sich sehr nah an das zweite Kapitel im Buch. Sie können es daher jederzeit als Referenz nutzen."
   ]
  },
  {
   "cell_type": "markdown",
   "id": "b2f4e809",
   "metadata": {},
   "source": [
    "## 1. Nötige Imports vornehmen\n",
    "\n",
    "Die benötigten Imports werden mit der folgenden Zelle vorgegeben. Der sklearn import ist optional für die Verwendung von Skalierern. "
   ]
  },
  {
   "cell_type": "code",
   "execution_count": 1,
   "id": "afff9e42",
   "metadata": {},
   "outputs": [],
   "source": [
    "import numpy as np\n",
    "import torch\n",
    "import torch.nn as nn\n",
    "from sklearn import preprocessing"
   ]
  },
  {
   "cell_type": "markdown",
   "id": "e84f9e23",
   "metadata": {},
   "source": [
    "## 2. Einlesen der Daten\n",
    "\n",
    "Beginnen Sie mit dem Einlesen der Daten aus der Datei \"FlowerAndTemp.CSV\". Bedenken Sie, dass sie Datei Semikolons als Separator nutzt. Im Anschluss werden die Daten explizit in float32 umgewandelt."
   ]
  },
  {
   "cell_type": "code",
   "execution_count": null,
   "id": "9ef56231",
   "metadata": {},
   "outputs": [],
   "source": [
    "flower = None # Hier das Einlesen vornehmen\n",
    "flower = flower.astype(np.float32)"
   ]
  },
  {
   "cell_type": "markdown",
   "id": "b2cd0cd7",
   "metadata": {},
   "source": [
    "## 3. (Optional) Skalieren der Daten\n",
    "\n",
    "Viele Algorithmen im maschinellen Lernen arbeiten besonders gut, wenn Daten normalisiert bzw. auf einen wohldefinierte Bereich skaliert werden. Auch neuronale Netze können mit unterschiedlichen Größenordnungen Probleme haben. Sie können daher optionalerweise hier mittels eines Skalierers von Scikit-Learn diesem Problem entgegenwirken. Beispiele für eine Min-Max-Skalierung finden sich [hier](https://scikit-learn.org/stable/modules/generated/sklearn.preprocessing.MinMaxScaler.html). Hier müssen die Label vorher mittels einem Reshape in eine eigene Dimension gepackt werden. Dies würde beim Ausführen sonst Probleme mit Scikit-Learn verursachen."
   ]
  },
  {
   "cell_type": "code",
   "execution_count": null,
   "id": "3bba3ed6",
   "metadata": {},
   "outputs": [],
   "source": [
    "scaler_x = preprocessing.MinMaxScaler()\n",
    "scaler_y = preprocessing.MinMaxScaler()\n",
    "\n",
    "# Hier optional das Skalieren vornehmen"
   ]
  },
  {
   "cell_type": "markdown",
   "id": "97096ac4",
   "metadata": {},
   "source": [
    "## 4. Transformation der Daten\n",
    "\n",
    "Im nächsten Schritt müssen die Daten in ein korrektes Format gebracht werden. Teilen Sie die Daten in 80% Trainings- und 20% Testdaten und entnehmen Sie die korrekten Spalten. Für die Features werden dabei die Spalten 0 (Jahr) und 2 (Temperatur) verwendet. Die Label selber stehen mit dem Start der Kirschblüte in Spalte 1. Wenn dies abgeschlossen ist, können Sie die Daten mit der Funktion \"torch.from_numpy\" in Tensore umwandeln."
   ]
  },
  {
   "cell_type": "code",
   "execution_count": 2,
   "id": "1071a73b",
   "metadata": {},
   "outputs": [
    {
     "ename": "AttributeError",
     "evalue": "'NoneType' object has no attribute 'reshape'",
     "output_type": "error",
     "traceback": [
      "\u001b[1;31m---------------------------------------------------------------------------\u001b[0m",
      "\u001b[1;31mAttributeError\u001b[0m                            Traceback (most recent call last)",
      "Input \u001b[1;32mIn [2]\u001b[0m, in \u001b[0;36m<cell line: 6>\u001b[1;34m()\u001b[0m\n\u001b[0;32m      3\u001b[0m y_train \u001b[38;5;241m=\u001b[39m \u001b[38;5;28;01mNone\u001b[39;00m\n\u001b[0;32m      4\u001b[0m y_test \u001b[38;5;241m=\u001b[39m \u001b[38;5;28;01mNone\u001b[39;00m\n\u001b[1;32m----> 6\u001b[0m y_train \u001b[38;5;241m=\u001b[39m \u001b[43my_train\u001b[49m\u001b[38;5;241;43m.\u001b[39;49m\u001b[43mreshape\u001b[49m(\u001b[38;5;241m-\u001b[39m\u001b[38;5;241m1\u001b[39m, \u001b[38;5;241m1\u001b[39m)\n\u001b[0;32m      7\u001b[0m y_test \u001b[38;5;241m=\u001b[39m y_test\u001b[38;5;241m.\u001b[39mreshape(\u001b[38;5;241m-\u001b[39m\u001b[38;5;241m1\u001b[39m, \u001b[38;5;241m1\u001b[39m)\n",
      "\u001b[1;31mAttributeError\u001b[0m: 'NoneType' object has no attribute 'reshape'"
     ]
    }
   ],
   "source": [
    "x_train = None # Hier die Transformation vornehmen\n",
    "x_test = None\n",
    "y_train = None\n",
    "y_test = None\n",
    "\n",
    "# Hier das umwandeln in Tensore vornehmen"
   ]
  },
  {
   "cell_type": "markdown",
   "id": "67d4ea05",
   "metadata": {},
   "source": [
    "## 5. Aufbau des neuronalen Netzes\n",
    "\n",
    "Nun, können Sie die Definition des neuronalen Netzes vornehmen. Verwenden Sie hierzu die Klasse ANN, welche in der folgenden Zelle unvollständig vorgegeben ist. In der init-Methode wird dem Netz eine Inputgröße, eine Liste mit Layergrößen und eine Ausgabegröße übergeben. Überlegen Sie nun wie Sie mit diesen Informationen und beliebiger Layerzahlen ein korrekt definierte Liste von Layern erstellen können. Zur Erinnerung: nn.linear(in_features, out_features) erzeugt einen Neuronenlayer mit in_features-Eingaben und out_features-Ausgaben.\n",
    "\n",
    "Nutzen Sie in der forward-Methode nun die vorher definierte Layerliste, um die Daten korrekt durch das neuronale Netz zu leiten. Die Hidden-Layer und der Eingabe-Layer sollen die ReLu-Aktivierungsfunktion und der Ausgabelayer die Sigmoidfunktion verwenden."
   ]
  },
  {
   "cell_type": "code",
   "execution_count": null,
   "id": "eb94fa7c",
   "metadata": {},
   "outputs": [],
   "source": [
    "class ANN(nn.Module):\n",
    "    def __init__(self, input_size, layers, output_size):\n",
    "        super(ANN, self).__init__()\n",
    "        self.layers = []\n",
    "        # Hier die Definition der Layer vornehmen.\n",
    "\n",
    "    def forward(self, x):\n",
    "        # Hier die Weiterleitung der Daten vornehmen.\n",
    "        return x"
   ]
  },
  {
   "cell_type": "markdown",
   "id": "a6933c24",
   "metadata": {},
   "source": [
    "## 6. Neuronales Netz, Verlustfunktion und Optimierer anlegen\n",
    "\n",
    "Im Folgenden kann nun eine Instanz der Netzdefinition erzeugt werden. Hier können Sie frei mit den Größen der Hidden-Layern experimentieren. Im Beispiel sollte die Eingabe allerdings zwei Neuronen und die Ausgabe ein Neuron umfassen. Nutzen Sie für die Verlustfunktion den MSELoss, eine typische Verlustfunktion für Regressionsprobleme, und für den Optimizer den stochastischen Gradientenabstieg."
   ]
  },
  {
   "cell_type": "code",
   "execution_count": null,
   "id": "1eb7ad6e",
   "metadata": {},
   "outputs": [],
   "source": [
    "my_network = ANN(input_size=2, layers=[], output_size=1) # Hier Hidden Layer definieren \n",
    "criterion = # Hier Loss definieren\n",
    "optimizer = # Hier Optimierer definieren"
   ]
  },
  {
   "cell_type": "markdown",
   "id": "2bde013d",
   "metadata": {},
   "source": [
    "## 7. Training und Test des neuronalen Netzes\n",
    "\n",
    "Schließlich kann nun das Training ausgeführt werden. Denken Sie hierbei an die Schlüsseloperationen aus dem Buch und geben Sie mit jeder Epoche den aktuellen Verlust aus. Optional, da dies im Buch noch nicht behandelt wird, können Sie das Netz alle n-Epochen mit den Testdaten testen. Denken Sie hierbei aber daran die Berechnung von Gradienten mittels torch.no_grad() für das Testen auszuschalten."
   ]
  },
  {
   "cell_type": "code",
   "execution_count": null,
   "id": "b0d09d5c",
   "metadata": {},
   "outputs": [],
   "source": [
    "epochs = 200 # Anzahl der Epochen festlegen\n",
    "\n",
    "for epoch in range(epochs):\n",
    "    # Hier Training und ggf. Tests definieren"
   ]
  }
 ],
 "metadata": {
  "kernelspec": {
   "display_name": "Python 3 (ipykernel)",
   "language": "python",
   "name": "python3"
  },
  "language_info": {
   "codemirror_mode": {
    "name": "ipython",
    "version": 3
   },
   "file_extension": ".py",
   "mimetype": "text/x-python",
   "name": "python",
   "nbconvert_exporter": "python",
   "pygments_lexer": "ipython3",
   "version": "3.10.11"
  }
 },
 "nbformat": 4,
 "nbformat_minor": 5
}
